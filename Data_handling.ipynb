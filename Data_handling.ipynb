{
  "cells": [
    {
      "cell_type": "markdown",
      "metadata": {},
      "source": [
        "Zaimportuj biblioteki"
      ]
    },
    {
      "cell_type": "code",
      "execution_count": 2,
      "metadata": {
        "trusted": true
      },
      "outputs": [],
      "source": [
        "import pandas as pd"
      ]
    },
    {
      "cell_type": "markdown",
      "metadata": {},
      "source": [
        "Dodaj plik \"Friendly Competition\""
      ]
    },
    {
      "cell_type": "code",
      "execution_count": 3,
      "metadata": {
        "trusted": true
      },
      "outputs": [],
      "source": [
        "fren = pd.read_csv(\"Friendly Competition.csv\")"
      ]
    },
    {
      "cell_type": "markdown",
      "metadata": {},
      "source": [
        "Dodaj nagłówki. Kolejno: Team Name, Activity, Players, Age, isForKids, TeamID"
      ]
    },
    {
      "cell_type": "code",
      "execution_count": 4,
      "metadata": {
        "trusted": true
      },
      "outputs": [],
      "source": [
        "fren.columns = [\"Team Name\", \"Activity\", \"Players\", \"Age\", \"isForKids\", \"TeamID\"]"
      ]
    },
    {
      "cell_type": "markdown",
      "metadata": {},
      "source": [
        "Zapoznaj się z ramką danych. Wygeneruj podsumowanie"
      ]
    },
    {
      "cell_type": "code",
      "execution_count": 5,
      "metadata": {
        "trusted": true
      },
      "outputs": [
        {
          "name": "stdout",
          "output_type": "stream",
          "text": [
            "          Team Name         Activity     Players           Age isForKids  \\\n",
            "0   _Dancing Donuts   Eating contest  3-5 people    8-12 years       Yes   \n",
            "1    .Wacky Wombats          zRacing         NaN   23-70 years        No   \n",
            "2  Silly Sausages..   Eating contest  3-5 people    8-12 years       NaN   \n",
            "3    Clumsy Ninjas-  Obstacle Course         1-2   10-99 years         Y   \n",
            "4   Laughing Llamas          Singing  4-6 people  6--600 years       YES   \n",
            "\n",
            "   TeamID  \n",
            "0    54.0  \n",
            "1    21.0  \n",
            "2    87.0  \n",
            "3    42.0  \n",
            "4    12.0  \n"
          ]
        }
      ],
      "source": [
        "print(fren.head()) "
      ]
    },
    {
      "cell_type": "markdown",
      "metadata": {},
      "source": [
        "Przyjrzyj się danym. Oceń, co trzeba wyczyścić. Wypisz poniżej."
      ]
    },
    {
      "cell_type": "code",
      "execution_count": 6,
      "metadata": {
        "trusted": true
      },
      "outputs": [
        {
          "name": "stdout",
          "output_type": "stream",
          "text": [
            "                Team Name         Activity     Players           Age  \\\n",
            "0         _Dancing Donuts   Eating contest  3-5 people    8-12 years   \n",
            "1          .Wacky Wombats          zRacing         NaN   23-70 years   \n",
            "2        Silly Sausages..   Eating contest  3-5 people    8-12 years   \n",
            "3          Clumsy Ninjas-  Obstacle Course         1-2   10-99 years   \n",
            "4         Laughing Llamas          Singing  4-6 people  6--600 years   \n",
            "5            Silly Squids         Painting  5-9 people    8-99 years   \n",
            "6     Bumbling Bumblebees          Dancing  3-8 people    6-53 years   \n",
            "7         Dizzy Dinosaurs          Hunting   80 people    40-0 years   \n",
            "8          Quirky Quokkas              NaN  5-9 people    8-99 years   \n",
            "9          Goofy Goblins/          Hunting   80 people   40-87 years   \n",
            "10    Jolly Jellybeans,,,   Eating contest  3-5 people    8-12 years   \n",
            "11   Flaming Marshmallows          Singing  4-6 people    6-60 years   \n",
            "12         Nutty Narwhals   Eating contest         NaN    8-12 years   \n",
            "13                    NaN              NaN         NaN           NaN   \n",
            "14            Zany Zebras         Painting  5-9 people           NaN   \n",
            "15         Crazy Coconuts           Racing  5-7 people   23-70 years   \n",
            "16   , ,Wobbling Walruses          Dancing  3-8 people    6-53 years   \n",
            "17        Funky Flamingos          Dancing  3-8 people    6-50 years   \n",
            "18   ,Hilarious Hedgehogs    Hide and Seek  6-8 people    4-30 years   \n",
            "19      Peculiar Penguins              NaN  3-8 people    6-60 years   \n",
            "20    Ridiculous Raccoons           Racing         NaN   23-70 years   \n",
            "21           Silly Squids         Painting  5-9 people    8-99 years   \n",
            "\n",
            "   isForKids  TeamID  \n",
            "0        Yes    54.0  \n",
            "1         No    21.0  \n",
            "2        NaN    87.0  \n",
            "3          Y    42.0  \n",
            "4        YES    12.0  \n",
            "5        Yes  4365.0  \n",
            "6        yes    97.0  \n",
            "7        NaN    64.0  \n",
            "8        YES    32.0  \n",
            "9          n     NaN  \n",
            "10         Y    76.0  \n",
            "11         Y    43.0  \n",
            "12       Yes     NaN  \n",
            "13       NaN     NaN  \n",
            "14       NaN    12.0  \n",
            "15         N    87.0  \n",
            "16         y     8.0  \n",
            "17       yes    65.0  \n",
            "18         Y   453.0  \n",
            "19       NaN     NaN  \n",
            "20        NO    32.0  \n",
            "21       Yes  4365.0  \n"
          ]
        }
      ],
      "source": [
        "print(fren)"
      ]
    },
    {
      "cell_type": "markdown",
      "metadata": {},
      "source": [
        "Usuń niepotrzebne wiersze i kolumny"
      ]
    },
    {
      "cell_type": "code",
      "execution_count": null,
      "metadata": {
        "trusted": true
      },
      "outputs": [],
      "source": []
    },
    {
      "cell_type": "markdown",
      "metadata": {},
      "source": [
        "Poszukaj unikatowych wartości"
      ]
    },
    {
      "cell_type": "code",
      "execution_count": null,
      "metadata": {
        "trusted": true
      },
      "outputs": [],
      "source": []
    },
    {
      "cell_type": "markdown",
      "metadata": {},
      "source": [
        "Wyczyść dane"
      ]
    },
    {
      "cell_type": "code",
      "execution_count": null,
      "metadata": {
        "trusted": true
      },
      "outputs": [],
      "source": []
    },
    {
      "cell_type": "markdown",
      "metadata": {},
      "source": [
        "Znajdź brakujące dane używając metody isna()"
      ]
    },
    {
      "cell_type": "code",
      "execution_count": null,
      "metadata": {
        "trusted": true
      },
      "outputs": [],
      "source": []
    },
    {
      "cell_type": "markdown",
      "metadata": {},
      "source": [
        "Uzupełnij brakujące dane"
      ]
    },
    {
      "cell_type": "code",
      "execution_count": null,
      "metadata": {
        "trusted": true
      },
      "outputs": [],
      "source": []
    },
    {
      "cell_type": "markdown",
      "metadata": {},
      "source": [
        "Usuń duplikaty"
      ]
    },
    {
      "cell_type": "code",
      "execution_count": null,
      "metadata": {
        "trusted": true
      },
      "outputs": [],
      "source": []
    },
    {
      "cell_type": "markdown",
      "metadata": {},
      "source": [
        "Zamień ilość graczy na format int, który jest wartością średnią"
      ]
    },
    {
      "cell_type": "code",
      "execution_count": null,
      "metadata": {
        "trusted": true
      },
      "outputs": [],
      "source": []
    },
    {
      "cell_type": "markdown",
      "metadata": {},
      "source": [
        "Wydziel wiek graczy na najmniejszą i największą wartość"
      ]
    },
    {
      "cell_type": "code",
      "execution_count": null,
      "metadata": {
        "trusted": true
      },
      "outputs": [],
      "source": []
    },
    {
      "cell_type": "markdown",
      "metadata": {},
      "source": [
        "Oddziel te drużyny, które biorą udział w aktywnościach artystycznych"
      ]
    },
    {
      "cell_type": "code",
      "execution_count": null,
      "metadata": {
        "trusted": true
      },
      "outputs": [],
      "source": []
    },
    {
      "cell_type": "markdown",
      "metadata": {},
      "source": [
        "Utwórz 2 dodaktkowe dataframy. Jeden, który zawiera listę kolejnych drużyn, drugą, która zawiera kolejne parametry"
      ]
    },
    {
      "cell_type": "code",
      "execution_count": null,
      "metadata": {
        "trusted": true
      },
      "outputs": [],
      "source": []
    },
    {
      "cell_type": "markdown",
      "metadata": {},
      "source": [
        "Dołącz dataframy do reszty"
      ]
    },
    {
      "cell_type": "code",
      "execution_count": null,
      "metadata": {
        "trusted": true
      },
      "outputs": [],
      "source": []
    }
  ],
  "metadata": {
    "kernelspec": {
      "display_name": "Python 3",
      "language": "python",
      "name": "python3"
    },
    "language_info": {
      "codemirror_mode": {
        "name": "ipython",
        "version": 3
      },
      "file_extension": ".py",
      "mimetype": "text/x-python",
      "name": "python",
      "nbconvert_exporter": "python",
      "pygments_lexer": "ipython3",
      "version": "3.13.2"
    }
  },
  "nbformat": 4,
  "nbformat_minor": 4
}
